{
 "cells": [
  {
   "cell_type": "markdown",
   "metadata": {},
   "source": [
    "# Retrieve API Key provided at console.developers.google.com"
   ]
  },
  {
   "cell_type": "code",
   "execution_count": 38,
   "metadata": {
    "scrolled": true
   },
   "outputs": [
    {
     "name": "stdout",
     "output_type": "stream",
     "text": [
      "<class 'str'>\n"
     ]
    }
   ],
   "source": [
    "with open('YT_key.txt','rt') as kfile:\n",
    "    secretstuff = kfile.readline().strip()\n",
    "print(type(secretstuff))"
   ]
  },
  {
   "cell_type": "markdown",
   "metadata": {},
   "source": [
    "# Paste the channel list of a given company below"
   ]
  },
  {
   "cell_type": "code",
   "execution_count": null,
   "metadata": {
    "collapsed": true
   },
   "outputs": [],
   "source": [
    "listy = ['/channel/UCWqjirBIQ4yaJCm025XfvuQ', '/channel/UCP8dlBBxOLG0Ilb0I5ZOiOg', '/channel/UC4vTuo7YzmNbREfNFJPqlqg', '/channel/UCKFQ0_mnQX2bWKy9BjlwDpQ', '/channel/UCnhALHO2z57OFBxjlzzBHbQ']"
   ]
  },
  {
   "cell_type": "code",
   "execution_count": null,
   "metadata": {
    "collapsed": true
   },
   "outputs": [],
   "source": [
    "chs_of_interest = [ch.split('/')[2] for ch in listy]"
   ]
  },
  {
   "cell_type": "markdown",
   "metadata": {},
   "source": [
    "# List of Sample YouTube Channels \n",
    "1. GeneralMillsCareers\n",
    "2. Apple's default channel\n",
    "3. Accenture's Consumer Industries channel\n",
    "4. Aetna's default channel.\n",
    "\n",
    "Note that https://www.youtube.com/channel/UC7yt9WWvVgeWT7ABdDdDduw is the same thing as https://www.youtube.com/user/GeneralMillsCareers (the former is a marketing URL)."
   ]
  },
  {
   "cell_type": "code",
   "execution_count": 39,
   "metadata": {},
   "outputs": [
    {
     "name": "stdout",
     "output_type": "stream",
     "text": [
      "Successfully retrieved channel: UC7yt9WWvVgeWT7ABdDdDduw\n",
      "Successfully retrieved channel: UCE_M8A5yxnLfW0KghEeajjw\n",
      "Successfully retrieved channel: UCeiQ-zd4O4T4gynRwnG4MxA\n",
      "Successfully retrieved channel: UCTaKWem7sh5zdXUzymSNmLg\n",
      "{'UC7yt9WWvVgeWT7ABdDdDduw': {'ch_commcount': '2',\n",
      "                              'ch_subcount': '323',\n",
      "                              'ch_subs_hidden': False,\n",
      "                              'ch_title': 'GeneralMillsCareers',\n",
      "                              'ch_vidcount': '68',\n",
      "                              'ch_viewcount': '185064',\n",
      "                              'id_kind': 'youtube#channel'},\n",
      " 'UCE_M8A5yxnLfW0KghEeajjw': {'ch_commcount': '73',\n",
      "                              'ch_subcount': '6178621',\n",
      "                              'ch_subs_hidden': False,\n",
      "                              'ch_title': 'Apple',\n",
      "                              'ch_vidcount': '242',\n",
      "                              'ch_viewcount': '456521914',\n",
      "                              'id_kind': 'youtube#channel'},\n",
      " 'UCTaKWem7sh5zdXUzymSNmLg': {'ch_commcount': '0',\n",
      "                              'ch_subcount': '58835',\n",
      "                              'ch_subs_hidden': False,\n",
      "                              'ch_title': 'Aetna',\n",
      "                              'ch_vidcount': '227',\n",
      "                              'ch_viewcount': '6959854',\n",
      "                              'id_kind': 'youtube#channel'},\n",
      " 'UCeiQ-zd4O4T4gynRwnG4MxA': {'ch_commcount': '0',\n",
      "                              'ch_subcount': '261',\n",
      "                              'ch_subs_hidden': False,\n",
      "                              'ch_title': 'Accenture Consumer Industries',\n",
      "                              'ch_vidcount': '31',\n",
      "                              'ch_viewcount': '17111',\n",
      "                              'id_kind': 'youtube#channel'}}\n"
     ]
    }
   ],
   "source": [
    "# These 4 channels returned without error; use them for testing as needed\n",
    "# chs_of_interest = ['UC7yt9WWvVgeWT7ABdDdDduw','UCE_M8A5yxnLfW0KghEeajjw','UCeiQ-zd4O4T4gynRwnG4MxA',\\\n",
    "#                   'UCTaKWem7sh5zdXUzymSNmLg']\n",
    "\n",
    "# Form up the YouTube URLs for pulling channel info using these portions: \n",
    "YT_base = 'https://www.googleapis.com/youtube/v3/'\n",
    "YT_chs_route = 'channels/?id='\n",
    "YT_parts = '&part=snippet%2Cstatistics'\n",
    "YT_fields = '&fields=items(kind,id,snippet(title),statistics)&part=snippet,statistics'\n",
    "my_key = '&key=' + secretstuff\n",
    "\n",
    "\n",
    "\n",
    "ch_dict = {}\n",
    "for ch_ID in chs_of_interest:\n",
    "    totURL = YT_base + YT_chs_route + ch_ID + YT_parts + YT_fields + my_key\n",
    "    r = requests.get(totURL)\n",
    "    # pprint.pprint(r.json())\n",
    "    if r.json()['items'][0]['id'] == ch_ID:\n",
    "        print('Successfully retrieved channel: ' + ch_ID)\n",
    "        ch_dict[ch_ID] = {}\n",
    "        ch_dict[ch_ID]['id_kind'] = r.json()['items'][0]['kind']\n",
    "        ch_dict[ch_ID]['ch_title'] = r.json()['items'][0]['snippet']['title']\n",
    "        ch_dict[ch_ID]['ch_viewcount'] = r.json()['items'][0]['statistics']['viewCount']\n",
    "        ch_dict[ch_ID]['ch_subcount'] = r.json()['items'][0]['statistics']['subscriberCount']       \n",
    "        ch_dict[ch_ID]['ch_vidcount'] = r.json()['items'][0]['statistics']['videoCount']\n",
    "        ch_dict[ch_ID]['ch_commcount'] = r.json()['items'][0]['statistics']['commentCount']\n",
    "        ch_dict[ch_ID]['ch_subs_hidden'] = r.json()['items'][0]['statistics']['hiddenSubscriberCount']\n",
    "        \n",
    "    else:\n",
    "        print('Something went wrong with channel ID: ' + ch_ID)\n",
    "\n",
    "pprint.pprint(ch_dict)"
   ]
  },
  {
   "cell_type": "code",
   "execution_count": 40,
   "metadata": {
    "collapsed": true
   },
   "outputs": [],
   "source": [
    "ch_cols = ['ch_id','id_kind','ch_title','ch_viewcount','ch_subcount','ch_vidcount','ch_commcount','ch_subs_hidden']\n",
    "import csv\n",
    "\n",
    "with open('channels.csv','wt') as ch_csv_handle:\n",
    "    writer = csv.writer(ch_csv_handle)\n",
    "    writer.writerow(ch_cols)\n",
    "    for ch in ch_dict:\n",
    "        row = [ch,ch_dict[ch]['id_kind'],ch_dict[ch]['ch_title'],ch_dict[ch]['ch_viewcount'],\\\n",
    "               ch_dict[ch]['ch_subcount'],ch_dict[ch]['ch_vidcount'],ch_dict[ch]['ch_commcount'],\\\n",
    "               ch_dict[ch]['ch_subs_hidden']]\n",
    "        writer.writerow(row)  "
   ]
  }
 ],
 "metadata": {
  "kernelspec": {
   "display_name": "Python 3",
   "language": "python",
   "name": "python3"
  },
  "language_info": {
   "codemirror_mode": {
    "name": "ipython",
    "version": 3
   },
   "file_extension": ".py",
   "mimetype": "text/x-python",
   "name": "python",
   "nbconvert_exporter": "python",
   "pygments_lexer": "ipython3",
   "version": "3.6.2"
  }
 },
 "nbformat": 4,
 "nbformat_minor": 2
}
